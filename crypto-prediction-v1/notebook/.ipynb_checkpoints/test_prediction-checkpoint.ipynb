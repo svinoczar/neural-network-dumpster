{
 "cells": [
  {
   "cell_type": "code",
   "execution_count": 2,
   "id": "2dd475f3-beaf-40d3-90dc-3787bc1ae582",
   "metadata": {},
   "outputs": [],
   "source": [
    "import pandas as pd\n",
    "from statsmodels.tsa.statespace.sarimax import SARIMAXResultsWrapper"
   ]
  },
  {
   "cell_type": "code",
   "execution_count": 9,
   "id": "f8ee38d9-75a3-4e05-bf27-37bfee5e6f6b",
   "metadata": {},
   "outputs": [],
   "source": [
    "# Загрузка сохраненной модели\n",
    "model = SARIMAXResultsWrapper.load(\"model\")\n",
    "\n",
    "# Загрузка новых данных\n",
    "new_data = pd.read_csv(\"../datasets/binance-solana.csv\")"
   ]
  },
  {
   "cell_type": "code",
   "execution_count": 11,
   "id": "5d33b9bd-72b6-4b8a-ae13-9b49ab2a9987",
   "metadata": {},
   "outputs": [
    {
     "name": "stdout",
     "output_type": "stream",
     "text": [
      "                           Date  Open  High  Low  Close  Volume  Close Time  \\\n",
      "0      2023\"-\"9\"-\"23\" \"00:00:00   NaN   NaN  NaN    NaN     NaN         NaN   \n",
      "1      2023\"-\"9\"-\"23\" \"00:14:59   NaN   NaN  NaN    NaN     NaN         NaN   \n",
      "2      2023\"-\"9\"-\"23\" \"00:29:59   NaN   NaN  NaN    NaN     NaN         NaN   \n",
      "3      2023\"-\"9\"-\"23\" \"00:44:59   NaN   NaN  NaN    NaN     NaN         NaN   \n",
      "4      2023\"-\"9\"-\"23\" \"00:59:59   NaN   NaN  NaN    NaN     NaN         NaN   \n",
      "...                         ...   ...   ...  ...    ...     ...         ...   \n",
      "4013  2023\"-\"11\"-\"03\" \"19:14:59   NaN   NaN  NaN    NaN     NaN         NaN   \n",
      "4014  2023\"-\"11\"-\"03\" \"19:29:59   NaN   NaN  NaN    NaN     NaN         NaN   \n",
      "4015  2023\"-\"11\"-\"03\" \"19:44:59   NaN   NaN  NaN    NaN     NaN         NaN   \n",
      "4016  2023\"-\"11\"-\"03\" \"19:59:59   NaN   NaN  NaN    NaN     NaN         NaN   \n",
      "4017  2023\"-\"11\"-\"03\" \"20:14:59   NaN   NaN  NaN    NaN     NaN         NaN   \n",
      "\n",
      "      Quote Asset Volume  Number of Trades  Taker Buy Base Asset Volume  \\\n",
      "0                    NaN               NaN                          NaN   \n",
      "1                    NaN               NaN                          NaN   \n",
      "2                    NaN               NaN                          NaN   \n",
      "3                    NaN               NaN                          NaN   \n",
      "4                    NaN               NaN                          NaN   \n",
      "...                  ...               ...                          ...   \n",
      "4013                 NaN               NaN                          NaN   \n",
      "4014                 NaN               NaN                          NaN   \n",
      "4015                 NaN               NaN                          NaN   \n",
      "4016                 NaN               NaN                          NaN   \n",
      "4017                 NaN               NaN                          NaN   \n",
      "\n",
      "      Taker Buy Quote Asset Volume  Ignore  \n",
      "0                              NaN     NaN  \n",
      "1                              NaN     NaN  \n",
      "2                              NaN     NaN  \n",
      "3                              NaN     NaN  \n",
      "4                              NaN     NaN  \n",
      "...                            ...     ...  \n",
      "4013                           NaN     NaN  \n",
      "4014                           NaN     NaN  \n",
      "4015                           NaN     NaN  \n",
      "4016                           NaN     NaN  \n",
      "4017                           NaN     NaN  \n",
      "\n",
      "[4018 rows x 12 columns]\n"
     ]
    }
   ],
   "source": [
    "print(new_data)"
   ]
  },
  {
   "cell_type": "code",
   "execution_count": 5,
   "id": "fd45377a-7f68-4fe9-99b8-207a5d40b7c8",
   "metadata": {},
   "outputs": [],
   "source": [
    "# Получение предсказаний для новых дат\n",
    "predictions = model.get_prediction(start=new_data.index[0], end=new_data.index[-1])"
   ]
  },
  {
   "cell_type": "code",
   "execution_count": 6,
   "id": "3c050e6e-6f6d-4f49-90a0-4d4520f1ecda",
   "metadata": {},
   "outputs": [],
   "source": [
    "# Извлечение предсказанных значений\n",
    "predicted_values = predictions.predicted_mean"
   ]
  },
  {
   "cell_type": "code",
   "execution_count": 7,
   "id": "0ca87602-07c7-4481-9ae0-c7eb2d7c28be",
   "metadata": {},
   "outputs": [
    {
     "name": "stdout",
     "output_type": "stream",
     "text": [
      "0        -0.003928\n",
      "1       101.946072\n",
      "2       101.569947\n",
      "3       101.814131\n",
      "4       102.278737\n",
      "           ...    \n",
      "4013     85.313581\n",
      "4014     85.721759\n",
      "4015     85.027246\n",
      "4016     85.133584\n",
      "4017     85.334695\n",
      "Name: predicted_mean, Length: 4018, dtype: float64\n"
     ]
    }
   ],
   "source": [
    "# Вывод предсказанных значений\n",
    "print(predicted_values)"
   ]
  },
  {
   "cell_type": "code",
   "execution_count": 12,
   "id": "0a5f7367-a354-4efe-8544-f18f1f564b55",
   "metadata": {},
   "outputs": [],
   "source": [
    "with open(\"binance-sol-test.csv\", \"w\") as file:\n",
    "    file.write(predicted_values.to_csv())"
   ]
  }
 ],
 "metadata": {
  "kernelspec": {
   "display_name": "Python 3 (ipykernel)",
   "language": "python",
   "name": "python3"
  },
  "language_info": {
   "codemirror_mode": {
    "name": "ipython",
    "version": 3
   },
   "file_extension": ".py",
   "mimetype": "text/x-python",
   "name": "python",
   "nbconvert_exporter": "python",
   "pygments_lexer": "ipython3",
   "version": "3.9.2"
  }
 },
 "nbformat": 4,
 "nbformat_minor": 5
}
