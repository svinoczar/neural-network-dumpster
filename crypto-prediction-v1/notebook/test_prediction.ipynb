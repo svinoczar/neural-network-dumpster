{
 "cells": [
  {
   "cell_type": "code",
   "execution_count": 1,
   "id": "2dd475f3-beaf-40d3-90dc-3787bc1ae582",
   "metadata": {},
   "outputs": [],
   "source": [
    "import pandas as pd\n",
    "from statsmodels.tsa.statespace.sarimax import SARIMAXResultsWrapper"
   ]
  },
  {
   "cell_type": "code",
   "execution_count": 2,
   "id": "f8ee38d9-75a3-4e05-bf27-37bfee5e6f6b",
   "metadata": {},
   "outputs": [],
   "source": [
    "# Загрузка сохраненной модели\n",
    "model = SARIMAXResultsWrapper.load(\"model\")\n",
    "\n",
    "# Загрузка новых данных\n",
    "new_data = pd.read_csv(\"../datasets/binance-solana.csv\")"
   ]
  },
  {
   "cell_type": "code",
   "execution_count": 3,
   "id": "5d33b9bd-72b6-4b8a-ae13-9b49ab2a9987",
   "metadata": {},
   "outputs": [
    {
     "name": "stdout",
     "output_type": "stream",
     "text": [
      "                       Date     Open     High      Low    Close    Volume  \\\n",
      "0       2020-08-11 09:00:00   2.8500   3.4700   2.8500   3.1655   6115.82   \n",
      "1       2020-08-11 09:15:00   3.1655   3.3564   3.1358   3.1360   2813.11   \n",
      "2       2020-08-11 09:30:00   3.1360   3.1360   2.9054   2.9665   9207.64   \n",
      "3       2020-08-11 09:45:00   3.0033   3.0113   2.9515   2.9515   1895.69   \n",
      "4       2020-08-11 10:00:00   2.9515   3.1355   2.9515   3.0310   5723.44   \n",
      "...                     ...      ...      ...      ...      ...       ...   \n",
      "109114  2023-09-22 23:00:00  19.3600  19.4200  19.3400  19.4200   8294.86   \n",
      "109115  2023-09-22 23:15:00  19.4200  19.4300  19.3800  19.3800  10827.52   \n",
      "109116  2023-09-22 23:30:00  19.3800  19.3800  19.3200  19.3200  11394.46   \n",
      "109117  2023-09-22 23:45:00  19.3300  19.3500  19.3000  19.3200  12145.82   \n",
      "109118  2023-09-23 00:00:00  19.3300  19.3300  19.1500  19.2300  75838.34   \n",
      "\n",
      "                        Close Time  Quote Asset Volume  Number of Trades  \\\n",
      "0       2020-08-11 09:14:59.999000        1.895535e+04                45   \n",
      "1       2020-08-11 09:29:59.999000        9.047295e+03                39   \n",
      "2       2020-08-11 09:44:59.999000        2.775549e+04               151   \n",
      "3       2020-08-11 09:59:59.999000        5.648097e+03                32   \n",
      "4       2020-08-11 10:14:59.999000        1.737048e+04               137   \n",
      "...                            ...                 ...               ...   \n",
      "109114  2023-09-22 23:14:59.999000        1.607740e+05               390   \n",
      "109115  2023-09-22 23:29:59.999000        2.101445e+05               462   \n",
      "109116  2023-09-22 23:44:59.999000        2.204762e+05               579   \n",
      "109117  2023-09-22 23:59:59.999000        2.347749e+05               405   \n",
      "109118  2023-09-23 00:14:59.999000        1.457359e+06              2409   \n",
      "\n",
      "        Taker Buy Base Asset Volume  Taker Buy Quote Asset Volume  Ignore  \n",
      "0                           4857.18                  14946.811418     0.0  \n",
      "1                           2122.64                   6845.756932     0.0  \n",
      "2                           1161.87                   3480.921560     0.0  \n",
      "3                            384.06                   1154.880742     0.0  \n",
      "4                           3724.35                  11385.449340     0.0  \n",
      "...                             ...                           ...     ...  \n",
      "109114                      5553.81                 107650.473400     0.0  \n",
      "109115                      6411.63                 124453.640700     0.0  \n",
      "109116                      4070.68                  78776.235700     0.0  \n",
      "109117                      4501.86                  87021.261400     0.0  \n",
      "109118                     23521.99                 451706.010200     0.0  \n",
      "\n",
      "[109119 rows x 12 columns]\n"
     ]
    }
   ],
   "source": [
    "print(new_data)"
   ]
  },
  {
   "cell_type": "code",
   "execution_count": 4,
   "id": "fd45377a-7f68-4fe9-99b8-207a5d40b7c8",
   "metadata": {},
   "outputs": [],
   "source": [
    "# Получение предсказаний для новых дат\n",
    "predictions = model.get_prediction(start=new_data.index[0], end=new_data.index[-1])"
   ]
  },
  {
   "cell_type": "code",
   "execution_count": 5,
   "id": "3c050e6e-6f6d-4f49-90a0-4d4520f1ecda",
   "metadata": {},
   "outputs": [],
   "source": [
    "# Извлечение предсказанных значений\n",
    "predicted_values = predictions.predicted_mean"
   ]
  },
  {
   "cell_type": "code",
   "execution_count": 6,
   "id": "0ca87602-07c7-4481-9ae0-c7eb2d7c28be",
   "metadata": {},
   "outputs": [
    {
     "name": "stdout",
     "output_type": "stream",
     "text": [
      "0          -0.003928\n",
      "1         101.946072\n",
      "2         101.569947\n",
      "3         101.814131\n",
      "4         102.278737\n",
      "             ...    \n",
      "109114   -326.548719\n",
      "109115   -326.552647\n",
      "109116   -326.556575\n",
      "109117   -326.560502\n",
      "109118   -326.564430\n",
      "Name: predicted_mean, Length: 109119, dtype: float64\n"
     ]
    }
   ],
   "source": [
    "# Вывод предсказанных значений\n",
    "print(predicted_values)"
   ]
  },
  {
   "cell_type": "code",
   "execution_count": 7,
   "id": "0a5f7367-a354-4efe-8544-f18f1f564b55",
   "metadata": {},
   "outputs": [],
   "source": [
    "with open(\"binance-sol-test.csv\", \"w\") as file:\n",
    "    file.write(predicted_values.to_csv())"
   ]
  }
 ],
 "metadata": {
  "kernelspec": {
   "display_name": "Python 3 (ipykernel)",
   "language": "python",
   "name": "python3"
  },
  "language_info": {
   "codemirror_mode": {
    "name": "ipython",
    "version": 3
   },
   "file_extension": ".py",
   "mimetype": "text/x-python",
   "name": "python",
   "nbconvert_exporter": "python",
   "pygments_lexer": "ipython3",
   "version": "3.9.2"
  }
 },
 "nbformat": 4,
 "nbformat_minor": 5
}
