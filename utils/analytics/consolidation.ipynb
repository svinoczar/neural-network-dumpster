{
 "cells": [
  {
   "cell_type": "code",
   "execution_count": 23,
   "id": "546cc6cc-3e93-4ca0-9533-4ecc6783589d",
   "metadata": {},
   "outputs": [],
   "source": [
    "import pandas as pd\n",
    "import numpy as np\n",
    "import matplotlib.pyplot as plt\n",
    "import matplotlib.dates as mdates\n",
    "import datetime\n",
    "import mpld3\n",
    "import mpld3.plugins as plugins\n",
    "from datetime import datetime"
   ]
  },
  {
   "cell_type": "code",
   "execution_count": 24,
   "id": "334b3756-8c83-4e11-b07f-54958f4ee058",
   "metadata": {},
   "outputs": [],
   "source": [
    "df = pd.read_csv(\"../../datasets/binance-bitcoin-h.csv\")\n",
    "df['Date'] = pd.to_datetime(df['Date'])\n",
    "df['Close Time'] = pd.to_datetime(df['Close Time'], format='mixed').dt.strftime('%Y-%m-%d %H:%M:%S')\n",
    "df['Close Time'] = pd.to_datetime(df['Close Time'], format='%Y-%m-%d %H:%M:%S')"
   ]
  },
  {
   "cell_type": "markdown",
   "metadata": {},
   "source": [
    "<h3>\n",
    "<b>\n",
    "Фильтрация DF\n",
    "<b>\n",
    "<h3>"
   ]
  },
  {
   "cell_type": "code",
   "execution_count": 25,
   "metadata": {},
   "outputs": [],
   "source": [
    "start_date = pd.to_datetime('2023-10-25')\n",
    "end_date = pd.to_datetime('2023-11-09')\n",
    "filtered_df = df[(df['Date'] >= start_date) & (df['Date'] <= end_date)]"
   ]
  },
  {
   "cell_type": "markdown",
   "metadata": {},
   "source": [
    "<h3>\n",
    "<b>\n",
    "Функция для конвертации 15-и минутного тайм фрейма в более старший\n",
    "</b>\n",
    "</h3>"
   ]
  },
  {
   "cell_type": "code",
   "execution_count": 26,
   "metadata": {},
   "outputs": [],
   "source": [
    "def binanceConvert(time_frame, path_to_df=None, data_frame=None, start_time_frame=\"15m\", save_to_csv=False):\n",
    "    if path_to_df is None:\n",
    "        if data_frame is not None:\n",
    "            cdf = data_frame.copy()\n",
    "        else:\n",
    "            print(\"no path to df and no df. WTF?\")\n",
    "            return 0\n",
    "    elif path_to_df is not None and data_frame is None:\n",
    "        cdf = pd.read_csv(path_to_df).copy()\n",
    "    else:\n",
    "        print(\"path to df and df. WTF?\")\n",
    "        return 0\n",
    "\n",
    "    cdf['Date'] = pd.to_datetime(cdf['Date'])\n",
    "    cdf.set_index('Date', inplace=True)\n",
    "\n",
    "    resampled_df = cdf.resample(time_frame).agg({\n",
    "        'Open': 'first',\n",
    "        'High': 'max',\n",
    "        'Low': 'min',\n",
    "        'Close': 'last',\n",
    "        'Volume': 'sum',\n",
    "        'Close Time': 'last',\n",
    "        'Quote Asset Volume': 'sum',\n",
    "        'Number of Trades': 'sum',\n",
    "        'Taker Buy Base Asset Volume': 'sum',\n",
    "        'Taker Buy Quote Asset Volume': 'sum'\n",
    "    })\n",
    "    if save_to_csv:\n",
    "        file_path = f\"binance-bitcoin-{time_frame}.csv\"\n",
    "        resampled_df.reset_index().to_csv(file_path, index=False)\n",
    "    else:\n",
    "        return resampled_df.reset_index()"
   ]
  },
  {
   "cell_type": "code",
   "execution_count": 36,
   "metadata": {},
   "outputs": [],
   "source": [
    "# РАБОТАЕТ НА 15m НЕ РАБОТАЕТ НА ЧАСЕ\n",
    "def localATH():\n",
    "    TMP_ATH_1 = 0\n",
    "    TMP_ATH_2 = 0\n",
    "    TMP_ATH_1_TIME = filtered_df[\"Date\"][filtered_df.index[0]]\n",
    "    TMP_ATH_2_TIME = filtered_df[\"Date\"][filtered_df.index[0]]\n",
    "    TMP_ATL_1 = 99999999\n",
    "    TMP_ATL_2 = 99999999\n",
    "    TMP_ATL_1_TIME = filtered_df[\"Date\"][filtered_df.index[0]]\n",
    "    TMP_ATL_2_TIME = filtered_df[\"Date\"][filtered_df.index[0]]\n",
    "    for i in range(filtered_df.index[0], filtered_df.index[-1]-1):\n",
    "        current_price = filtered_df[\"Close\"][i]\n",
    "        current_time = filtered_df[\"Date\"][i]\n",
    "        if current_price >= TMP_ATH_1:\n",
    "            TMP_ATH_1 = current_price\n",
    "            TMP_ATH_1_TIME = current_time\n",
    "        if current_price > TMP_ATH_2 and current_price != TMP_ATH_1:\n",
    "            TMP_ATH_2 = current_price\n",
    "            TMP_ATH_2_TIME = current_time\n",
    "    AVG_TMP_ATH = (TMP_ATH_1 + TMP_ATH_2) / 2\n",
    "    AVG_TMP_ATH_TIME = (datetime.fromtimestamp((TMP_ATH_1_TIME.timestamp() + TMP_ATH_2_TIME.timestamp()) / 2)).strftime(\"%Y-%m-%d %H:%M:%S\")\n",
    "\n",
    "    start = (filtered_df.loc[filtered_df[\"Date\"] == TMP_ATH_1_TIME]).index[0]\n",
    "    middle = (filtered_df.loc[filtered_df[\"Date\"] == AVG_TMP_ATH_TIME]).index[0]\n",
    "    end = (filtered_df.loc[filtered_df[\"Date\"] == TMP_ATH_2_TIME]).index[0]\n",
    "\n",
    "    for i in range(start, middle):\n",
    "        current_price = filtered_df[\"Close\"][i]\n",
    "        current_time = filtered_df[\"Date\"][i]\n",
    "\n",
    "        if current_price <= TMP_ATL_1:\n",
    "            TMP_ATL_1 = current_price\n",
    "            TMP_ATL_1_TIME = current_time\n",
    "\n",
    "    for i in range(middle, end):\n",
    "        current_price = filtered_df[\"Close\"][i]\n",
    "        current_time = filtered_df[\"Date\"][i]\n",
    "\n",
    "        if current_price < TMP_ATL_2 and current_price != TMP_ATL_1:\n",
    "            TMP_ATL_2 = current_price\n",
    "            TMP_ATL_2_TIME = current_time\n",
    "\n",
    "    return {'local_ath_1':[TMP_ATH_1, TMP_ATH_1_TIME], 'local_ath_2':[TMP_ATH_2, TMP_ATH_2_TIME], 'local_atl_1':[TMP_ATL_1, TMP_ATL_1_TIME], 'local_atl_2':[TMP_ATL_2, TMP_ATL_2_TIME], 'local_avg':[AVG_TMP_ATH, AVG_TMP_ATH_TIME]}\n",
    "    # print(TMP_ATH_1, TMP_ATH_1_TIME)\n",
    "    # print(TMP_ATH_2, TMP_ATH_2_TIME)\n",
    "    # print(TMP_ATL_1, TMP_ATL_1_TIME)\n",
    "    # print(TMP_ATL_2, TMP_ATL_2_TIME)\n",
    "    # print(AVG_TMP_ATH, AVG_TMP_ATH_TIME)"
   ]
  },
  {
   "cell_type": "code",
   "execution_count": 37,
   "metadata": {},
   "outputs": [
    {
     "data": {
      "text/plain": [
       "{'local_ath_1': [35678.85, Timestamp('2023-11-02 05:00:00')],\n",
       " 'local_ath_2': [35621.99, Timestamp('2023-11-08 22:00:00')],\n",
       " 'local_atl_1': [33595.62, Timestamp('2023-10-27 21:00:00')],\n",
       " 'local_atl_2': [33600.15, Timestamp('2023-10-27 20:00:00')],\n",
       " 'local_avg': [35650.42, '2023-11-05 16:30:00']}"
      ]
     },
     "execution_count": 37,
     "metadata": {},
     "output_type": "execute_result"
    }
   ],
   "source": [
    "# consol = localATH()\n",
    "# for i in consol:\n",
    "#     print(pd.Timestamp(dicttt.get(i)[1]).strftime('%Y-%m-%d %H:%M:%S'))\n",
    "#     # print(i)\n",
    "\n",
    "# print(pd.Timestamp(consol.get('local_ath_1')[1]).strftime('%Y-%m-%d %H:%M:%S'),\n",
    "#                            pd.Timestamp(consol.get('local_ath_2')[1]).strftime('%Y-%m-%d %H:%M:%S'),\n",
    "#                            pd.Timestamp(consol.get('local_atl_1')[1]).strftime('%Y-%m-%d %H:%M:%S'),\n",
    "#                            pd.Timestamp(consol.get('local_atl_2')[1]).strftime('%Y-%m-%d %H:%M:%S'),\n",
    "#                            pd.Timestamp(consol.get('local_avg')[1]).strftime('%Y-%m-%d %H:%M:%S'))\n",
    "\n",
    "filtered_df\n",
    "localATH()"
   ]
  },
  {
   "cell_type": "markdown",
   "metadata": {},
   "source": [
    "<h3>\n",
    "<b>\n",
    "Отрисовка графика цены Close\n",
    "</b>\n",
    "</h3>"
   ]
  },
  {
   "cell_type": "code",
   "execution_count": 38,
   "metadata": {},
   "outputs": [
    {
     "data": {
      "image/png": "[encoded data removed]",
      "text/plain": [
       "<Figure size 640x480 with 1 Axes>"
      ]
     },
     "metadata": {},
     "output_type": "display_data"
    }
   ],
   "source": [
    "consol = localATH()\n",
    "\n",
    "date_formatter = mdates.DateFormatter('%m-%d')\n",
    "\n",
    "plt.gca().xaxis.set_major_formatter(date_formatter)\n",
    "\n",
    "plt.plot(filtered_df['Date'], filtered_df['Close'], label='Close Price')\n",
    "\n",
    "# Вертикальные прерывистые линии\n",
    "plt.vlines(pd.to_datetime([pd.Timestamp(consol.get('local_atl_1')[1]).strftime('%Y-%m-%d %H:%M:%S'),\n",
    "                           pd.Timestamp(consol.get('local_atl_2')[1]).strftime('%Y-%m-%d %H:%M:%S')]),\n",
    "           ymin=34174.19, ymax=35753.83, colors='red', linestyles='dashed', label='ATL')\n",
    "\n",
    "plt.vlines(pd.to_datetime([pd.Timestamp(consol.get('local_ath_1')[1]).strftime('%Y-%m-%d %H:%M:%S'),\n",
    "                           pd.Timestamp(consol.get('local_ath_2')[1]).strftime('%Y-%m-%d %H:%M:%S')]),\n",
    "           ymin=34174.19, ymax=35753.83, colors='green', label='ATH')\n",
    "\n",
    "plt.vlines(pd.to_datetime([pd.Timestamp(consol.get('local_avg')[1]).strftime('%Y-%m-%d %H:%M:%S')]),\n",
    "           ymin=34174.19, ymax=35753.83, colors='green', label='AVG')\n",
    "\n",
    "plt.xlabel('Date')\n",
    "plt.ylabel('Close Price')\n",
    "plt.title('Stock Price')\n",
    "plt.legend()\n",
    "plt.xticks(rotation=45)\n",
    "\n",
    "plt.show()"
   ]
  },
  {
   "cell_type": "code",
   "execution_count": null,
   "metadata": {},
   "outputs": [
    {
     "name": "stdout",
     "output_type": "stream",
     "text": [
      "                     Date      Open      High       Low     Close  \\\n",
      "0     2017-08-17 04:00:00   4261.48   4313.62   4261.32   4308.83   \n",
      "1     2017-08-17 08:00:00   4308.83   4377.85   4287.41   4360.69   \n",
      "2     2017-08-17 12:00:00   4360.00   4485.39   4360.00   4411.00   \n",
      "3     2017-08-17 16:00:00   4411.00   4485.39   4255.30   4354.18   \n",
      "4     2017-08-17 20:00:00   4354.18   4354.84   4200.74   4346.74   \n",
      "...                   ...       ...       ...       ...       ...   \n",
      "13669 2023-11-12 08:00:00  37006.00  37171.10  36946.60  37095.84   \n",
      "13670 2023-11-12 12:00:00  37095.85  37132.36  36963.00  37007.36   \n",
      "13671 2023-11-12 16:00:00  37007.35  37222.22  36931.10  37109.99   \n",
      "13672 2023-11-12 20:00:00  37110.00  37200.00  37051.95  37131.98   \n",
      "13673 2023-11-13 00:00:00  37131.98  37193.83  37131.98  37157.31   \n",
      "\n",
      "            Volume          Close Time  Quote Asset Volume  Number of Trades  \\\n",
      "0        47.181009 2017-08-17 07:59:59        2.023661e+05               171   \n",
      "1        35.880663 2017-08-17 11:59:59        1.550677e+05               191   \n",
      "2        85.679473 2017-08-17 15:59:59        3.803882e+05               328   \n",
      "3       218.988394 2017-08-17 19:59:59        9.627357e+05              1148   \n",
      "4       206.626397 2017-08-17 23:59:59        8.852165e+05               835   \n",
      "...            ...                 ...                 ...               ...   \n",
      "13669  3269.764870 2023-11-12 11:59:59        1.213037e+08            140014   \n",
      "13670  2870.125510 2023-11-12 15:59:59        1.063673e+08            131126   \n",
      "13671  3480.393140 2023-11-12 19:59:59        1.291858e+08            157847   \n",
      "13672  2153.715870 2023-11-12 23:59:59        7.994471e+07            108438   \n",
      "13673   453.049340 2023-11-13 00:59:59        1.683804e+07             24234   \n",
      "\n",
      "       Taker Buy Base Asset Volume  Taker Buy Quote Asset Volume  \n",
      "0                        35.160503                  1.509525e+05  \n",
      "1                        29.667879                  1.282477e+05  \n",
      "2                        73.285972                  3.254491e+05  \n",
      "3                       148.897876                  6.558903e+05  \n",
      "4                       168.892762                  7.237011e+05  \n",
      "...                            ...                           ...  \n",
      "13669                  1538.455430                  5.706869e+07  \n",
      "13670                  1333.903080                  4.943617e+07  \n",
      "13671                  1805.657220                  6.702341e+07  \n",
      "13672                  1038.112730                  3.853441e+07  \n",
      "13673                   208.911890                  7.764032e+06  \n",
      "\n",
      "[13674 rows x 11 columns]\n"
     ]
    }
   ],
   "source": [
    "# with open(\"../../datasets/h/binance-bitcoin-h.csv\", \"w\") as file:\n",
    "#     file.write((binanceConvert(\"w\", df)).to_csv())\n",
    "\n",
    "print(binanceConvert(\"4h\", data_frame = df))"
   ]
  },
  {
   "cell_type": "markdown",
   "metadata": {},
   "source": [
    "---"
   ]
  },
  {
   "cell_type": "code",
   "execution_count": null,
   "metadata": {},
   "outputs": [
    {
     "name": "stdout",
     "output_type": "stream",
     "text": [
      "754\n",
      "217711    34598.60\n",
      "217712    34596.93\n",
      "217713    34538.47\n",
      "217714    34475.98\n",
      "217715    34507.70\n",
      "            ...   \n",
      "218475    35731.63\n",
      "218476    35614.43\n",
      "218477    35570.64\n",
      "218478    35616.93\n",
      "218479    35598.00\n",
      "Name: Close, Length: 769, dtype: float64\n"
     ]
    }
   ],
   "source": [
    "def moving_avg (x, n):\n",
    "    return pd.Series(x).rolling(window=n).mean().iloc[n-1:].values\n",
    "\n",
    "print(len(moving_avg(filtered_df[\"Close\"], 16)))\n",
    "print(filtered_df[\"Close\"])"
   ]
  },
  {
   "cell_type": "code",
   "execution_count": null,
   "metadata": {},
   "outputs": [
    {
     "name": "stdout",
     "output_type": "stream",
     "text": [
      "35753.83 2023-11-02 06:00:00\n",
      "35731.63 2023-11-08 23:00:00\n",
      "34174.19 2023-11-03 13:00:00\n",
      "34190.42 2023-11-03 15:00:00\n"
     ]
    }
   ],
   "source": [
    "# НАХОЖДЕНИЕ ATH и ATL на промежутке\n",
    "\n",
    "\n",
    "TMP_ATH_1 = 0\n",
    "TMP_ATH_2 = 0\n",
    "TMP_ATH_1_TIME = filtered_df[\"Date\"][filtered_df.index[0]]\n",
    "TMP_ATH_2_TIME = filtered_df[\"Date\"][filtered_df.index[0]]\n",
    "\n",
    "TMP_ATL_1 = 99999999\n",
    "TMP_ATL_2 = 99999999\n",
    "TMP_ATL_1_TIME = filtered_df[\"Date\"][filtered_df.index[0]]\n",
    "TMP_ATL_2_TIME = filtered_df[\"Date\"][filtered_df.index[0]]\n",
    "\n",
    "for i in range(filtered_df.index[0], filtered_df.index[-1]-1):\n",
    "    current_price = filtered_df[\"Close\"][i]\n",
    "    current_time = filtered_df[\"Date\"][i]\n",
    "    if current_price >= TMP_ATH_1:\n",
    "        TMP_ATH_1 = current_price\n",
    "        TMP_ATH_1_TIME = current_time\n",
    "    if current_price > TMP_ATH_2 and current_price != TMP_ATH_1:\n",
    "        TMP_ATH_2 = current_price\n",
    "        TMP_ATH_2_TIME = current_time\n",
    "        \n",
    "    if current_price <= TMP_ATL_1:\n",
    "        TMP_ATL_1 = current_price\n",
    "        TMP_ATL_1_TIME = current_time\n",
    "    if current_price < TMP_ATL_2 and current_price != TMP_ATL_1:\n",
    "        TMP_ATL_2 = current_price\n",
    "        TMP_ATL_2_TIME = current_time\n",
    "print(TMP_ATH_1, TMP_ATH_1_TIME)\n",
    "print(TMP_ATH_2, TMP_ATH_2_TIME)\n",
    "print(TMP_ATL_1, TMP_ATL_1_TIME)\n",
    "print(TMP_ATL_2, TMP_ATL_2_TIME)\n",
    "ATH_1_TIME = TMP_ATH_1_TIME\n",
    "ATL_1_TIME = TMP_ATL_1_TIME\n",
    "ATH_2_TIME = TMP_ATH_2_TIME\n",
    "ATL_2_TIME = TMP_ATL_2_TIME"
   ]
  },
  {
   "cell_type": "code",
   "execution_count": null,
   "metadata": {},
   "outputs": [
    {
     "ename": "AttributeError",
     "evalue": "type object 'datetime.datetime' has no attribute 'datetime'",
     "output_type": "error",
     "traceback": [
      "\u001b[0;31m---------------------------------------------------------------------------\u001b[0m",
      "\u001b[0;31mAttributeError\u001b[0m                            Traceback (most recent call last)",
      "\u001b[1;32m/home/sunshine/crypto-prediction/utils/analytics/consolidation.ipynb Ячейка 15\u001b[0m line \u001b[0;36m1\n\u001b[1;32m      <a href='vscode-notebook-cell://wsl%2Bdebian/home/sunshine/crypto-prediction/utils/analytics/consolidation.ipynb#X14sdnNjb2RlLXJlbW90ZQ%3D%3D?line=8'>9</a>\u001b[0m point1_int \u001b[39m=\u001b[39m (ath_1_time_int \u001b[39m+\u001b[39m atl_1_time_int) \u001b[39m/\u001b[39m \u001b[39m2\u001b[39m\n\u001b[1;32m     <a href='vscode-notebook-cell://wsl%2Bdebian/home/sunshine/crypto-prediction/utils/analytics/consolidation.ipynb#X14sdnNjb2RlLXJlbW90ZQ%3D%3D?line=9'>10</a>\u001b[0m point2_int \u001b[39m=\u001b[39m (ath_2_time_int \u001b[39m+\u001b[39m atl_2_time_int) \u001b[39m/\u001b[39m \u001b[39m2\u001b[39m\n\u001b[0;32m---> <a href='vscode-notebook-cell://wsl%2Bdebian/home/sunshine/crypto-prediction/utils/analytics/consolidation.ipynb#X14sdnNjb2RlLXJlbW90ZQ%3D%3D?line=11'>12</a>\u001b[0m point1_timestamp \u001b[39m=\u001b[39m datetime\u001b[39m.\u001b[39;49mdatetime\u001b[39m.\u001b[39mfromtimestamp(point1_int)\u001b[39m.\u001b[39mstrftime(\u001b[39m'\u001b[39m\u001b[39m%\u001b[39m\u001b[39mY-\u001b[39m\u001b[39m%\u001b[39m\u001b[39mm-\u001b[39m\u001b[39m%d\u001b[39;00m\u001b[39m \u001b[39m\u001b[39m%\u001b[39m\u001b[39mH:\u001b[39m\u001b[39m%\u001b[39m\u001b[39mM:\u001b[39m\u001b[39m%\u001b[39m\u001b[39mS\u001b[39m\u001b[39m'\u001b[39m)\n\u001b[1;32m     <a href='vscode-notebook-cell://wsl%2Bdebian/home/sunshine/crypto-prediction/utils/analytics/consolidation.ipynb#X14sdnNjb2RlLXJlbW90ZQ%3D%3D?line=12'>13</a>\u001b[0m point2_timestamp \u001b[39m=\u001b[39m datetime\u001b[39m.\u001b[39mdatetime\u001b[39m.\u001b[39mfromtimestamp(point2_int)\u001b[39m.\u001b[39mstrftime(\u001b[39m'\u001b[39m\u001b[39m%\u001b[39m\u001b[39mY-\u001b[39m\u001b[39m%\u001b[39m\u001b[39mm-\u001b[39m\u001b[39m%d\u001b[39;00m\u001b[39m \u001b[39m\u001b[39m%\u001b[39m\u001b[39mH:\u001b[39m\u001b[39m%\u001b[39m\u001b[39mM:\u001b[39m\u001b[39m%\u001b[39m\u001b[39mS\u001b[39m\u001b[39m'\u001b[39m)\n\u001b[1;32m     <a href='vscode-notebook-cell://wsl%2Bdebian/home/sunshine/crypto-prediction/utils/analytics/consolidation.ipynb#X14sdnNjb2RlLXJlbW90ZQ%3D%3D?line=14'>15</a>\u001b[0m \u001b[39m# print(point1_timestamp)\u001b[39;00m\n\u001b[1;32m     <a href='vscode-notebook-cell://wsl%2Bdebian/home/sunshine/crypto-prediction/utils/analytics/consolidation.ipynb#X14sdnNjb2RlLXJlbW90ZQ%3D%3D?line=15'>16</a>\u001b[0m \u001b[39m# print(point2_timestamp)\u001b[39;00m\n",
      "\u001b[0;31mAttributeError\u001b[0m: type object 'datetime.datetime' has no attribute 'datetime'"
     ]
    }
   ],
   "source": [
    "#TODO: НУЖНО НАЙТИ СРЕДНЮЮ ДАТУ МЕЖДУ ATH_1 и ATL_1 + для ATH_2 и ATL_2\n",
    "#TODO: Построить эти точки на графике\n",
    "\n",
    "ath_1_time_int = int((pd.Timestamp(ATH_1_TIME)).timestamp())\n",
    "ath_2_time_int = int((pd.Timestamp(ATH_2_TIME)).timestamp())\n",
    "atl_1_time_int = int((pd.Timestamp(ATL_1_TIME)).timestamp())\n",
    "atl_2_time_int = int((pd.Timestamp(ATL_2_TIME)).timestamp())\n",
    "\n",
    "point1_int = (ath_1_time_int + atl_1_time_int) / 2\n",
    "point2_int = (ath_2_time_int + atl_2_time_int) / 2\n",
    "\n",
    "point1_timestamp = datetime.datetime.fromtimestamp(point1_int).strftime('%Y-%m-%d %H:%M:%S')\n",
    "point2_timestamp = datetime.datetime.fromtimestamp(point2_int).strftime('%Y-%m-%d %H:%M:%S')\n",
    "\n",
    "# print(point1_timestamp)\n",
    "# print(point2_timestamp)\n",
    "print(atl_1_time_int - atl_2_time_int)\n",
    "print(ath_1_time_int - ath_2_time_int)"
   ]
  },
  {
   "cell_type": "code",
   "execution_count": null,
   "metadata": {},
   "outputs": [],
   "source": [
    "for i in range(filtered_df.index[0], filtered_df.index[-1]-1):\n",
    "    current_price = filtered_df[\"Close\"][i]\n",
    "    current_time = filtered_df[\"Date\"][i]\n",
    "    if current_price >= TMP_ATH_1:\n",
    "        TMP_ATH_1 = current_price\n",
    "        TMP_ATH_1_TIME = current_time\n",
    "    if current_price > TMP_ATH_2 and current_price != TMP_ATH_1:\n",
    "        TMP_ATH_2 = current_price\n",
    "        TMP_ATH_2_TIME = current_time\n",
    "\n",
    "    if current_price <= TMP_ATL_1:\n",
    "        TMP_ATL_1 = current_price\n",
    "        TMP_ATL_1_TIME = current_time\n",
    "    if current_price < TMP_ATL_2 and current_price != TMP_ATL_1:\n",
    "        TMP_ATL_2 = current_price\n",
    "        TMP_ATL_2_TIME = current_time"
   ]
  }
 ],
 "metadata": {
  "kernelspec": {
   "display_name": "Python 3 (ipykernel)",
   "language": "python",
   "name": "python3"
  },
  "language_info": {
   "codemirror_mode": {
    "name": "ipython",
    "version": 3
   },
   "file_extension": ".py",
   "mimetype": "text/x-python",
   "name": "python",
   "nbconvert_exporter": "python",
   "pygments_lexer": "ipython3",
   "version": "3.9.2"
  }
 },
 "nbformat": 4,
 "nbformat_minor": 5
}
